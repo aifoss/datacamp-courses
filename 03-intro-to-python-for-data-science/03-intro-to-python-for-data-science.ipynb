{
 "cells": [
  {
   "cell_type": "markdown",
   "metadata": {},
   "source": [
    "#Intro to Python for Data Science"
   ]
  },
  {
   "cell_type": "markdown",
   "metadata": {},
   "source": [
    "#Ch.3 Functions and Packages"
   ]
  },
  {
   "cell_type": "markdown",
   "metadata": {},
   "source": [
    "##List Methods"
   ]
  },
  {
   "cell_type": "code",
   "execution_count": 10,
   "metadata": {
    "collapsed": false
   },
   "outputs": [
    {
     "name": "stdout",
     "output_type": "stream",
     "text": [
      "2\n",
      "0\n"
     ]
    }
   ],
   "source": [
    "# Create list areas\n",
    "areas = [11.25, 18.0, 20.0, 10.75, 9.50]\n",
    "\n",
    "# Print out the index of the element 20.0\n",
    "print(areas.index(20.0))\n",
    "\n",
    "# Print out how often 14.5 appears in areas\n",
    "print(areas.count(14.5))"
   ]
  },
  {
   "cell_type": "code",
   "execution_count": 11,
   "metadata": {
    "collapsed": false
   },
   "outputs": [
    {
     "name": "stdout",
     "output_type": "stream",
     "text": [
      "[11.25, 18.0, 20.0, 10.75, 9.5, 24.5, 15.45]\n",
      "[15.45, 24.5, 9.5, 10.75, 20.0, 18.0, 11.25]\n"
     ]
    }
   ],
   "source": [
    "# Create list areas\n",
    "areas = [11.25, 18.0, 20.0, 10.75, 9.50]\n",
    "\n",
    "# Use append twice to add poolhouse and garage size\n",
    "areas.append(24.5)\n",
    "areas.append(15.45)\n",
    "\n",
    "# Print out areas\n",
    "print(areas)\n",
    "\n",
    "# Reverse the orders of the elements in areas\n",
    "areas.reverse()\n",
    "\n",
    "# Print out areas\n",
    "print(areas)"
   ]
  },
  {
   "cell_type": "markdown",
   "metadata": {},
   "source": [
    "##Import Package"
   ]
  },
  {
   "cell_type": "code",
   "execution_count": 12,
   "metadata": {
    "collapsed": false
   },
   "outputs": [
    {
     "name": "stdout",
     "output_type": "stream",
     "text": [
      "Circumference: 2.70176968209\n",
      "Area: 0.580880481649\n"
     ]
    }
   ],
   "source": [
    "# Definition of radius\n",
    "r = 0.43\n",
    "\n",
    "# Import the math package\n",
    "import math\n",
    "\n",
    "# Calculate C\n",
    "C = 2 * math.pi * r\n",
    "\n",
    "# Calculate A\n",
    "A = math.pi * r**2\n",
    "\n",
    "# Build printout\n",
    "print(\"Circumference: \" + str(C))\n",
    "print(\"Area: \" + str(A))"
   ]
  },
  {
   "cell_type": "markdown",
   "metadata": {},
   "source": [
    "##Selective Import"
   ]
  },
  {
   "cell_type": "code",
   "execution_count": 13,
   "metadata": {
    "collapsed": false
   },
   "outputs": [
    {
     "name": "stdout",
     "output_type": "stream",
     "text": [
      "40317.1057211\n"
     ]
    }
   ],
   "source": [
    "# Definition of radius\n",
    "r = 192500\n",
    "\n",
    "# Import radians function of math package\n",
    "from math import radians\n",
    "\n",
    "# Travel distance of Moon if 12 degrees. Store in dist.\n",
    "dist = r * radians(12)\n",
    "\n",
    "# Print out dist\n",
    "print(dist)"
   ]
  },
  {
   "cell_type": "markdown",
   "metadata": {},
   "source": [
    "##Different Ways of Importing"
   ]
  },
  {
   "cell_type": "code",
   "execution_count": 14,
   "metadata": {
    "collapsed": true
   },
   "outputs": [],
   "source": [
    "from scipy.linalg import inv as my_inv"
   ]
  },
  {
   "cell_type": "code",
   "execution_count": 15,
   "metadata": {
    "collapsed": false
   },
   "outputs": [
    {
     "data": {
      "text/plain": [
       "array([[-2. ,  1. ],\n",
       "       [ 1.5, -0.5]])"
      ]
     },
     "execution_count": 15,
     "metadata": {},
     "output_type": "execute_result"
    }
   ],
   "source": [
    "my_inv([[1,2], [3,4]])"
   ]
  },
  {
   "cell_type": "markdown",
   "metadata": {},
   "source": [
    "#Ch.4 Numpy"
   ]
  },
  {
   "cell_type": "markdown",
   "metadata": {},
   "source": [
    "##Your First Numpy Array"
   ]
  },
  {
   "cell_type": "code",
   "execution_count": 16,
   "metadata": {
    "collapsed": false
   },
   "outputs": [
    {
     "name": "stdout",
     "output_type": "stream",
     "text": [
      "<type 'numpy.ndarray'>\n"
     ]
    }
   ],
   "source": [
    "# Create list baseball \n",
    "baseball = [180, 215, 210, 210, 188, 176, 209, 200]\n",
    "\n",
    "# Import the numpy package as np\n",
    "import numpy as np\n",
    "\n",
    "# Create a Numpy array from baseball: np_baseball\n",
    "np_baseball = np.array(baseball)\n",
    "\n",
    "# Print out type of np_baseball\n",
    "print(type(np_baseball))"
   ]
  },
  {
   "cell_type": "markdown",
   "metadata": {},
   "source": [
    "##Baseball Players' Height"
   ]
  },
  {
   "cell_type": "code",
   "execution_count": 17,
   "metadata": {
    "collapsed": false
   },
   "outputs": [
    {
     "name": "stdout",
     "output_type": "stream",
     "text": [
      "[200 190 195 210 205]\n",
      "[ 5.08   4.826  4.953  5.334  5.207]\n"
     ]
    }
   ],
   "source": [
    "# height is available as a regular list\n",
    "height = [200, 190, 195, 210, 205]\n",
    "\n",
    "# Import numpy\n",
    "import numpy as np\n",
    "\n",
    "# Create a Numpy array from height: np_height\n",
    "np_height = np.array(height)\n",
    "\n",
    "# Print out np_height\n",
    "print(np_height)\n",
    "\n",
    "# Convert np_height to m: np_height_m\n",
    "np_height_m = np_height * 0.0254\n",
    "\n",
    "# Print np_height_m\n",
    "print(np_height_m)"
   ]
  },
  {
   "cell_type": "markdown",
   "metadata": {},
   "source": [
    "##Baseball Players' BMI"
   ]
  },
  {
   "cell_type": "code",
   "execution_count": 18,
   "metadata": {
    "collapsed": false
   },
   "outputs": [
    {
     "name": "stdout",
     "output_type": "stream",
     "text": [
      "[ 3.51534503  3.70036319  3.60548208  3.34794765  3.42960491]\n"
     ]
    }
   ],
   "source": [
    "# height and weight are available as a regular lists\n",
    "weight = [200, 190, 195, 210, 205]\n",
    "\n",
    "# Import numpy\n",
    "import numpy as np\n",
    "\n",
    "# Create array from height with correct units: np_height_m\n",
    "np_height_m = np.array(height) * 0.0254\n",
    "\n",
    "# Create array from weight with correct units: np_weight_kg \n",
    "np_weight_kg = np.array(weight) * 0.453592\n",
    "\n",
    "# Calculate the BMI: bmi\n",
    "bmi = np_weight_kg / np_height_m**2\n",
    "\n",
    "# Print out bmi\n",
    "print(bmi)"
   ]
  },
  {
   "cell_type": "markdown",
   "metadata": {},
   "source": [
    "##Lightweight Baseball Players"
   ]
  },
  {
   "cell_type": "code",
   "execution_count": 19,
   "metadata": {
    "collapsed": false
   },
   "outputs": [
    {
     "name": "stdout",
     "output_type": "stream",
     "text": [
      "[ True  True  True  True  True]\n",
      "[ 3.51534503  3.70036319  3.60548208  3.34794765  3.42960491]\n"
     ]
    }
   ],
   "source": [
    "# height and weight are available as a regular lists\n",
    "\n",
    "# Import numpy\n",
    "import numpy as np\n",
    "\n",
    "# Calculate the BMI: bmi\n",
    "np_height_m = np.array(height) * 0.0254\n",
    "np_weight_kg = np.array(weight) * 0.453592\n",
    "bmi = np_weight_kg / np_height_m ** 2\n",
    "\n",
    "# Create the light array\n",
    "light = bmi < 21\n",
    "\n",
    "# Print out light\n",
    "print(light)\n",
    "\n",
    "# Print out BMIs of all baseball players whose BMI is below 21\n",
    "print(bmi[light])"
   ]
  },
  {
   "cell_type": "markdown",
   "metadata": {},
   "source": [
    "##Subsetting Numpy Arrays"
   ]
  },
  {
   "cell_type": "code",
   "execution_count": 21,
   "metadata": {
    "collapsed": false
   },
   "outputs": [
    {
     "name": "stdout",
     "output_type": "stream",
     "text": [
      "190\n",
      "[190 195 210]\n"
     ]
    }
   ],
   "source": [
    "# height and weight are available as a regular lists\n",
    "\n",
    "# Import numpy\n",
    "import numpy as np\n",
    "\n",
    "# Store weight and height lists as numpy arrays\n",
    "np_weight = np.array(weight)\n",
    "np_height = np.array(height)\n",
    "\n",
    "# Print out the weight at index 1\n",
    "print(np_weight[1])\n",
    "\n",
    "# Print out sub-array of np_height: index 1 up to and including index 3\n",
    "print(np_height[1:4])"
   ]
  },
  {
   "cell_type": "markdown",
   "metadata": {},
   "source": [
    "##Your First 2D Numpy Array"
   ]
  },
  {
   "cell_type": "code",
   "execution_count": 22,
   "metadata": {
    "collapsed": false
   },
   "outputs": [
    {
     "name": "stdout",
     "output_type": "stream",
     "text": [
      "<type 'numpy.ndarray'>\n",
      "(4, 2)\n"
     ]
    }
   ],
   "source": [
    "# Create baseball, a list of lists\n",
    "baseball = [[180, 78.4],\n",
    "            [215, 102.7],\n",
    "            [210, 98.5],\n",
    "            [188, 75.2]]\n",
    "\n",
    "# Import numpy\n",
    "import numpy as np\n",
    "\n",
    "# Create a 2D Numpy array from baseball: np_baseball\n",
    "np_baseball = np.array(baseball)\n",
    "\n",
    "# Print out the type of np_baseball\n",
    "print(type(np_baseball))\n",
    "\n",
    "# Print out the shape of np_baseball\n",
    "print(np_baseball.shape)"
   ]
  },
  {
   "cell_type": "markdown",
   "metadata": {},
   "source": [
    "##Subsetting 2D Numpy Arrays"
   ]
  },
  {
   "cell_type": "code",
   "execution_count": 23,
   "metadata": {
    "collapsed": false
   },
   "outputs": [
    {
     "name": "stdout",
     "output_type": "stream",
     "text": [
      "[ 210.    98.5]\n",
      "188.0\n"
     ]
    }
   ],
   "source": [
    "# baseball is available as a regular list of lists\n",
    "\n",
    "# Import numpy package\n",
    "import numpy as np\n",
    "\n",
    "# Create np_baseball (2 cols)\n",
    "np_baseball = np.array(baseball)\n",
    "\n",
    "# Print out the 3rd row of np_baseball\n",
    "print(np_baseball[2, :])\n",
    "\n",
    "# Select the entire second column of np_baseball: np_weight\n",
    "np_weight = np_baseball[:, 1]\n",
    "\n",
    "# Print out height of 4th player\n",
    "print(np_baseball[3, 0])"
   ]
  },
  {
   "cell_type": "markdown",
   "metadata": {},
   "source": [
    "##2D Arithmetic"
   ]
  },
  {
   "cell_type": "code",
   "execution_count": 29,
   "metadata": {
    "collapsed": false
   },
   "outputs": [
    {
     "data": {
      "text/plain": [
       "array([[ 2,  4],\n",
       "       [ 6,  8],\n",
       "       [10, 12]])"
      ]
     },
     "execution_count": 29,
     "metadata": {},
     "output_type": "execute_result"
    }
   ],
   "source": [
    "import numpy as np\n",
    "np_mat = np.array([[1, 2],\n",
    "                   [3, 4],\n",
    "                   [5, 6]])\n",
    "np_mat * 2"
   ]
  },
  {
   "cell_type": "code",
   "execution_count": 30,
   "metadata": {
    "collapsed": false
   },
   "outputs": [
    {
     "data": {
      "text/plain": [
       "array([[11, 12],\n",
       "       [13, 14],\n",
       "       [15, 16]])"
      ]
     },
     "execution_count": 30,
     "metadata": {},
     "output_type": "execute_result"
    }
   ],
   "source": [
    "np_mat + np.array([10, 10])"
   ]
  },
  {
   "cell_type": "code",
   "execution_count": 31,
   "metadata": {
    "collapsed": false
   },
   "outputs": [
    {
     "data": {
      "text/plain": [
       "array([[ 2,  4],\n",
       "       [ 6,  8],\n",
       "       [10, 12]])"
      ]
     },
     "execution_count": 31,
     "metadata": {},
     "output_type": "execute_result"
    }
   ],
   "source": [
    "np_mat + np_mat"
   ]
  },
  {
   "cell_type": "code",
   "execution_count": 39,
   "metadata": {
    "collapsed": false
   },
   "outputs": [
    {
     "name": "stdout",
     "output_type": "stream",
     "text": [
      "[[ 2  4 13]\n",
      " [ 7  9 26]\n",
      " [12 14 39]\n",
      " [17 19 52]]\n",
      "[[  0.0254     0.907184   3.      ]\n",
      " [  0.1016     2.26796    6.      ]\n",
      " [  0.1778     3.628736   9.      ]\n",
      " [  0.254      4.989512  12.      ]]\n"
     ]
    }
   ],
   "source": [
    "# baseball is available as a regular list of lists\n",
    "# update is available as 2D Numpy array\n",
    "baseball = [[1,2,3],[4,5,6],[7,8,9],[10,11,12]]\n",
    "update = np.array([[1,2,10],[3,4,20],[5,6,30],[7,8,40]])\n",
    "\n",
    "# Import numpy package\n",
    "import numpy as np\n",
    "\n",
    "# Create np_baseball (3 cols)\n",
    "np_baseball = np.array(baseball)\n",
    "\n",
    "# Print out addition of np_baseball and update\n",
    "print(np_baseball + update)\n",
    "\n",
    "# Create Numpy array: conversion\n",
    "conversion = np.array([0.0254, 0.453592, 1])\n",
    "\n",
    "# Print out product of np_baseball and conversion\n",
    "print(np_baseball * conversion)"
   ]
  },
  {
   "cell_type": "markdown",
   "metadata": {},
   "source": [
    "##Average versus Median"
   ]
  },
  {
   "cell_type": "code",
   "execution_count": 40,
   "metadata": {
    "collapsed": false
   },
   "outputs": [
    {
     "name": "stdout",
     "output_type": "stream",
     "text": [
      "5.5\n",
      "5.5\n"
     ]
    }
   ],
   "source": [
    "# np_baseball is available\n",
    "# 1015 rows x 3 columns (height, weight, age)\n",
    "\n",
    "# Import numpy\n",
    "import numpy as np\n",
    "\n",
    "# Create np_height from np_baseball\n",
    "np_height = np_baseball[:,0]\n",
    "\n",
    "# Print out the mean of np_height\n",
    "print(np.mean(np_height))\n",
    "\n",
    "# Print out the median of np_height\n",
    "print(np.median(np_height))"
   ]
  },
  {
   "cell_type": "markdown",
   "metadata": {},
   "source": [
    "##Explore the Baseball Data"
   ]
  },
  {
   "cell_type": "code",
   "execution_count": 41,
   "metadata": {
    "collapsed": false
   },
   "outputs": [
    {
     "name": "stdout",
     "output_type": "stream",
     "text": [
      "Average: 5.5\n",
      "Median: 5.5\n",
      "Standard Deviation: 3.35410196625\n",
      "Correlation: [[ 1.  1.]\n",
      " [ 1.  1.]]\n"
     ]
    }
   ],
   "source": [
    "# np_baseball is available\n",
    "\n",
    "# Import numpy\n",
    "import numpy as np\n",
    "\n",
    "# Print mean height (first column)\n",
    "avg = np.mean(np_baseball[:,0])\n",
    "print(\"Average: \" + str(avg))\n",
    "\n",
    "# Print median height. Replace 'None'\n",
    "med = np.median(np_baseball[:,0])\n",
    "print(\"Median: \" + str(med))\n",
    "\n",
    "# Print out the standard deviation on height. Replace 'None'\n",
    "stddev = np.std(np_baseball[:,0])\n",
    "print(\"Standard Deviation: \" + str(stddev))\n",
    "\n",
    "# Print out correlation between first and second column. Replace 'None'\n",
    "corr = np.corrcoef(np_baseball[:,0], np_baseball[:,1])\n",
    "print(\"Correlation: \" + str(corr))"
   ]
  },
  {
   "cell_type": "markdown",
   "metadata": {},
   "source": [
    "##Blend It All Together"
   ]
  },
  {
   "cell_type": "code",
   "execution_count": 42,
   "metadata": {
    "collapsed": false
   },
   "outputs": [
    {
     "name": "stdout",
     "output_type": "stream",
     "text": [
      "Median height of goalkeepers: 191.0\n",
      "Median height of other players: 184.0\n"
     ]
    }
   ],
   "source": [
    "# heights and positions are available as lists\n",
    "positions = ['GK', 'M', 'A', 'D']\n",
    "heights = [191, 184, 185, 180]\n",
    "\n",
    "# Import numpy\n",
    "import numpy as np\n",
    "\n",
    "# Convert positions and heights to numpy arrays: np_positions, np_heights\n",
    "np_positions = np.array(positions)\n",
    "np_heights = np.array(heights)\n",
    "\n",
    "# Heights of the goalkeepers: gk_heights\n",
    "gk_heights = np_heights[np_positions == 'GK']\n",
    "\n",
    "# Heights of the other players: other_heights\n",
    "other_heights = np_heights[np_positions != 'GK']\n",
    "\n",
    "# Print out the median height of goalkeepers. Replace 'None'\n",
    "print(\"Median height of goalkeepers: \" + str(np.median(gk_heights)))\n",
    "\n",
    "# Print out the median height of other players. Replace 'None'\n",
    "print(\"Median height of other players: \" + str(np.median(other_heights)))"
   ]
  }
 ],
 "metadata": {
  "kernelspec": {
   "display_name": "Python 2",
   "language": "python",
   "name": "python2"
  },
  "language_info": {
   "codemirror_mode": {
    "name": "ipython",
    "version": 2
   },
   "file_extension": ".py",
   "mimetype": "text/x-python",
   "name": "python",
   "nbconvert_exporter": "python",
   "pygments_lexer": "ipython2",
   "version": "2.7.10"
  }
 },
 "nbformat": 4,
 "nbformat_minor": 0
}
